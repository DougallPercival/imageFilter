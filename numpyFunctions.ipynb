{
 "cells": [
  {
   "cell_type": "markdown",
   "metadata": {},
   "source": [
    "This notebook offers a bit of a deeper dive into the numpy functions discussed during this tutorial. \n",
    "MGrid, Tile, and Stack.\n",
    "This is just a much simpler look at these functions."
   ]
  },
  {
   "cell_type": "code",
   "execution_count": 1,
   "metadata": {},
   "outputs": [],
   "source": [
    "import cv2\n",
    "import numpy as np"
   ]
  },
  {
   "cell_type": "code",
   "execution_count": 2,
   "metadata": {},
   "outputs": [],
   "source": [
    "def display(img):\n",
    "    cv2.imshow('image',img)\n",
    "    cv2.waitKey(0)\n",
    "    cv2.destroyAllWindows()"
   ]
  },
  {
   "cell_type": "markdown",
   "metadata": {},
   "source": [
    "First, we are going to create a very small 4x4 matrix, which will represent out image.  \n",
    "This matrix will have shape 4,4,3 - representing an RGB image."
   ]
  },
  {
   "cell_type": "code",
   "execution_count": 14,
   "metadata": {},
   "outputs": [
    {
     "name": "stdout",
     "output_type": "stream",
     "text": [
      "(4, 4, 3)\n",
      "[[[161 239  53]\n",
      "  [ 53 169  91]\n",
      "  [136 231   0]\n",
      "  [166  12  76]]\n",
      "\n",
      " [[ 63 122 153]\n",
      "  [135 235  41]\n",
      "  [ 75 102 242]\n",
      "  [ 81 189 106]]\n",
      "\n",
      " [[152  19 136]\n",
      "  [109  92 140]\n",
      "  [124 206 147]\n",
      "  [229 128  31]]\n",
      "\n",
      " [[ 96 115 102]\n",
      "  [134  24 162]\n",
      "  [178 253  63]\n",
      "  [113  34 252]]]\n"
     ]
    }
   ],
   "source": [
    "matrix = np.random.randint(255, size=(4,4,3))\n",
    "print(matrix.shape)\n",
    "print(matrix)"
   ]
  },
  {
   "cell_type": "code",
   "execution_count": 16,
   "metadata": {},
   "outputs": [],
   "source": [
    "# create an opencv image\n",
    "img = matrix.astype(np.uint8)\n",
    "# for display purposes, resize\n",
    "img = cv2.resize(img, (400,400))\n",
    "display(img)\n",
    "# wow, it looks really nice!"
   ]
  },
  {
   "cell_type": "markdown",
   "metadata": {},
   "source": [
    "First up: let's discuss mgrid.\n",
    "MGrid takes in 3 positional arguments, in the manner x:y:z  \n",
    "It is called like this - new_grid = np.mgrid[x:y:z]  \n",
    "MGrid creates a 1-D array with dimensions as specified by x:y:z, where *x* is the inclusive low value, *y* the exlcusive high value, and *z* the increments. The size of the array is defined by how many increments of *z* there are between *x* and *y*."
   ]
  },
  {
   "cell_type": "code",
   "execution_count": 17,
   "metadata": {},
   "outputs": [
    {
     "data": {
      "text/plain": [
       "array([ 20,  40,  60,  80, 100])"
      ]
     },
     "execution_count": 17,
     "metadata": {},
     "output_type": "execute_result"
    }
   ],
   "source": [
    "# we would expect this to have 5 values\n",
    "np.mgrid[20:101:20]"
   ]
  },
  {
   "cell_type": "code",
   "execution_count": 26,
   "metadata": {},
   "outputs": [
    {
     "name": "stdout",
     "output_type": "stream",
     "text": [
      "10.25\n",
      "[40.   50.25 60.5  70.75]\n"
     ]
    }
   ],
   "source": [
    "# to work with our 4x4 matrix, we will need to create a single mgrid of length 4.\n",
    "# we will consider the values percentages, and go from 40% to 80%. \n",
    "# since the top is not inclusive, we may expect it to not reach that actual value.\n",
    "inc = (81-40) / 4\n",
    "print(inc)\n",
    "mgrid = np.mgrid[40:80:inc]\n",
    "print(mgrid)"
   ]
  },
  {
   "cell_type": "markdown",
   "metadata": {},
   "source": [
    "Now that we have our grid, we can discuss the next numpy function: Tile  \n",
    "\n",
    "We can use numpy's tile to extend our 1-D array into an N-D array. It constructs an array by repeating the given array by the amount of time the size is given. As you can see below, inputting size (4,1) returns the grid we were looking for, a 4x4.  \n",
    "As tile repeats the 1-D array, each row is the same, meaning the percentages increase from left-right in this grid.\n"
   ]
  },
  {
   "cell_type": "code",
   "execution_count": 28,
   "metadata": {},
   "outputs": [
    {
     "name": "stdout",
     "output_type": "stream",
     "text": [
      "(4, 4)\n",
      "[[40.   50.25 60.5  70.75]\n",
      " [40.   50.25 60.5  70.75]\n",
      " [40.   50.25 60.5  70.75]\n",
      " [40.   50.25 60.5  70.75]]\n"
     ]
    }
   ],
   "source": [
    "tile_2d = np.tile(mgrid, (4,1))\n",
    "print(tile_2d.shape)\n",
    "print(tile_2d)"
   ]
  },
  {
   "cell_type": "markdown",
   "metadata": {},
   "source": [
    "Next up is numpy's stack. Stack allows us to join a sequence of arrays, along a new axis.  \n",
    "This means we could stack our mgrid along a different axis, to create a 4x4 grid where the percent change goes from top to bottom. The only thing is, the np.stack function only takes in a tuple of arrays.  \n",
    "To create the proper stack, we will need to first create a tuple of our mgrid 4 repeated 4 times, then apply stack to it. Finally, we will need to transpose the created shape.\n"
   ]
  },
  {
   "cell_type": "code",
   "execution_count": 35,
   "metadata": {},
   "outputs": [
    {
     "name": "stdout",
     "output_type": "stream",
     "text": [
      "(4, 4) \n",
      " [[40.   40.   40.   40.  ]\n",
      " [50.25 50.25 50.25 50.25]\n",
      " [60.5  60.5  60.5  60.5 ]\n",
      " [70.75 70.75 70.75 70.75]]\n"
     ]
    }
   ],
   "source": [
    "# create a list (mutable object), before converting to tuple (immutable)\n",
    "tu = []\n",
    "for i in range(4):\n",
    "    tu.append(mgrid)\n",
    "tu = tuple(tu)\n",
    "stack = np.stack(tu).T\n",
    "print(stack.shape, '\\n', stack)"
   ]
  },
  {
   "cell_type": "code",
   "execution_count": null,
   "metadata": {},
   "outputs": [],
   "source": []
  },
  {
   "cell_type": "code",
   "execution_count": null,
   "metadata": {},
   "outputs": [],
   "source": []
  },
  {
   "cell_type": "code",
   "execution_count": null,
   "metadata": {},
   "outputs": [],
   "source": []
  },
  {
   "cell_type": "code",
   "execution_count": null,
   "metadata": {},
   "outputs": [],
   "source": []
  }
 ],
 "metadata": {
  "kernelspec": {
   "display_name": "Python 3",
   "language": "python",
   "name": "python3"
  },
  "language_info": {
   "codemirror_mode": {
    "name": "ipython",
    "version": 3
   },
   "file_extension": ".py",
   "mimetype": "text/x-python",
   "name": "python",
   "nbconvert_exporter": "python",
   "pygments_lexer": "ipython3",
   "version": "3.7.4"
  }
 },
 "nbformat": 4,
 "nbformat_minor": 2
}
